{
 "cells": [
  {
   "cell_type": "code",
   "execution_count": null,
   "metadata": {},
   "outputs": [],
   "source": [
    "!pip install netCDF4 scikit-learn matplotlib xarray GPy cartopy geopandas shapely descartes"
   ]
  },
  {
   "cell_type": "code",
   "execution_count": null,
   "metadata": {},
   "outputs": [],
   "source": [
    "import numpy as np\n",
    "import xarray as xr\n",
    "from sklearn.model_selection import train_test_split\n",
    "from sklearn.gaussian_process import GaussianProcessRegressor\n",
    "from sklearn.gaussian_process.kernels import RBF\n",
    "from sklearn.multioutput import MultiOutputRegressor\n",
    "import GPy\n",
    "import matplotlib.pyplot as plt\n",
    "\n",
    "\n",
    "# Assuming the uploaded file is named 'data.nc'\n",
    "file_path = 'your_path'\n",
    "\n",
    "# Load NetCDF data using xarray\n",
    "data = xr.open_dataset(file_path)"
   ]
  },
  {
   "cell_type": "code",
   "execution_count": null,
   "metadata": {},
   "outputs": [],
   "source": [
    "import geopandas as gpd\n",
    "import matplotlib.pyplot as plt\n",
    "import cartopy.crs as ccrs\n",
    "import cartopy.feature as cfeature\n",
    "\n",
    "# Load the natural earth data for coastlines\n",
    "world = gpd.read_file(gpd.datasets.get_path('naturalearth_lowres'))\n",
    "\n",
    "# Focus on a specific area, adjust here according to your dataset bounds\n",
    "bounds = [-95, -70, 22, 32]  # Example for part of Florida, USA\n",
    "\n",
    "# Extract coastlines and apply buffer inwards (negative value for buffer distance)\n",
    "coastlines = world.geometry.unary_union\n",
    "inward_buffer = coastlines.buffer(-0.5)  # Change this value to customize the distance\n",
    "\n",
    "# Convert buffered shape back to GeoDataFrame\n",
    "buffered_coastline = gpd.GeoDataFrame(geometry=gpd.GeoSeries(inward_buffer))\n",
    "\n",
    "# Create plot\n",
    "fig, ax = plt.subplots(figsize=(12, 8), subplot_kw={'projection': ccrs.PlateCarree()})\n",
    "ax.set_extent(bounds, crs=ccrs.PlateCarree())\n",
    "\n",
    "# Add geographic features\n",
    "ax.add_feature(cfeature.COASTLINE, linewidth=1)\n",
    "ax.add_feature(cfeature.BORDERS, linestyle='-', linewidth=0.5)\n",
    "ax.add_feature(cfeature.STATES, linestyle=':', linewidth=0.5)\n",
    "\n",
    "# Plot buffered coastline as a blue dashed line\n",
    "buffered_coastline.plot(ax=ax, edgecolor='blue', linestyle='--', linewidth=2, transform=ccrs.PlateCarree())\n",
    "\n",
    "# Define the coordinates for the red points\n",
    "points_lon = [-82.5, -82.75, -82.5, -82.75]\n",
    "points_lat = [30.75, 30.75, 30.25, 30.25]\n",
    "\n",
    "# Add red points to the plot\n",
    "ax.scatter(points_lon, points_lat, s=5, color='red', transform=ccrs.PlateCarree(), label='Points of Interest')\n",
    "\n",
    "# Add gridlines and labels\n",
    "gl = ax.gridlines(draw_labels=True, linewidth=0.5, color='gray', alpha=0.5, linestyle='--')\n",
    "gl.top_labels = False\n",
    "gl.right_labels = False\n",
    "gl.xlabel_style = {'size': 10}\n",
    "gl.ylabel_style = {'size': 10}\n",
    "\n",
    "# Title and display\n",
    "plt.title('Locations of Interest in Florida', fontsize=14)\n",
    "plt.legend(loc='upper left')  # Add a legend\n",
    "plt.show()"
   ]
  }
 ],
 "metadata": {
  "language_info": {
   "name": "python"
  }
 },
 "nbformat": 4,
 "nbformat_minor": 2
}
